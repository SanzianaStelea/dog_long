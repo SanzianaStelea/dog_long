{
 "cells": [
  {
   "cell_type": "code",
   "execution_count": 4,
   "metadata": {},
   "outputs": [
    {
     "name": "stdout",
     "output_type": "stream",
     "text": [
      "Sunt platit 6 ore pe saptamana deci veti avea 6 ore pe saptamana \n"
     ]
    }
   ],
   "source": []
  },
  {
   "cell_type": "code",
   "execution_count": 6,
   "metadata": {},
   "outputs": [
    {
     "name": "stdout",
     "output_type": "stream",
     "text": [
      "image not found\n",
      "image not found\n",
      "image not found\n"
     ]
    }
   ],
   "source": [
    "import os\n",
    "import cv2\n",
    "import numpy as np\n",
    "\n",
    "folder= r\"C:\\Users\\ZenBook\\Desktop\\machine_learning\\images\"\n",
    "image_array=[]\n",
    "\n",
    "for filename in os.listdir(folder):\n",
    "    input_path=os.path.join(folder, filename)\n",
    "    image=cv2.imread(input_path)\n",
    "    if image is None:\n",
    "        print(\"image not found\")\n",
    "        continue\n",
    "image_array.append(np.array(image))\n",
    "\n",
    "\n"
   ]
  },
  {
   "cell_type": "code",
   "execution_count": 16,
   "metadata": {},
   "outputs": [
    {
     "name": "stdout",
     "output_type": "stream",
     "text": [
      "            dr7objid      id  t01_a01_smooth_weighted_fraction  \\\n",
      "0       5.877330e+17   58957                             0.000   \n",
      "1       5.880090e+17  193641                             0.024   \n",
      "2       5.877320e+17   55933                             0.780   \n",
      "3       5.877420e+17  158500                             0.036   \n",
      "4       5.877380e+17  110937                             0.767   \n",
      "...              ...     ...                               ...   \n",
      "239690  5.877410e+17  150542                             0.823   \n",
      "239691  5.877310e+17  275883                             0.541   \n",
      "239692  5.877320e+17  282536                             0.789   \n",
      "239693  5.877320e+17  284171                             0.531   \n",
      "239694  5.880160e+17  288958                             0.763   \n",
      "\n",
      "        t01_a02_features_or_disk_weighted_fraction  \\\n",
      "0                                            0.988   \n",
      "1                                            0.976   \n",
      "2                                            0.139   \n",
      "3                                            0.964   \n",
      "4                                            0.186   \n",
      "...                                            ...   \n",
      "239690                                       0.174   \n",
      "239691                                       0.263   \n",
      "239692                                       0.156   \n",
      "239693                                       0.278   \n",
      "239694                                       0.212   \n",
      "\n",
      "        t01_a03_star_or_artifact_weighted_fraction  \n",
      "0                                            0.012  \n",
      "1                                            0.000  \n",
      "2                                            0.081  \n",
      "3                                            0.000  \n",
      "4                                            0.047  \n",
      "...                                            ...  \n",
      "239690                                       0.003  \n",
      "239691                                       0.197  \n",
      "239692                                       0.055  \n",
      "239693                                       0.191  \n",
      "239694                                       0.025  \n",
      "\n",
      "[239695 rows x 5 columns]\n"
     ]
    }
   ],
   "source": [
    "import os\n",
    "import pandas as pd\n",
    "from torchvision.io import read_image\n",
    "import torch\n",
    "from torch.utils.data import Dataset\n",
    "from torchvision import datasets\n",
    "from torchvision.transforms import ToTensor\n",
    "import matplotlib.pyplot as plt\n",
    "\n",
    "\n",
    "\n",
    "class CustomImageDataset(Dataset):\n",
    "    def __init__(self, annotations_file, img_dir, transform=None, target_transform=None):\n",
    "        self.img_labels = pd.read_csv(annotations_file)\n",
    "        self.img_dir = img_dir\n",
    "        self.transform = transform\n",
    "        self.target_transform = target_transform\n",
    "\n",
    "    def __len__(self):\n",
    "        return len(self.img_labels)\n",
    "\n",
    "    def __getitem__(self, idx):\n",
    "        img_path = os.path.join(self.img_dir, self.img_labels.iloc[idx, 0])\n",
    "        image = read_image(img_path)\n",
    "        label = self.img_labels.iloc[idx, 1]\n",
    "        if self.transform:\n",
    "            image = self.transform(image)\n",
    "        if self.target_transform:\n",
    "            label = self.target_transform(label)\n",
    "        return image, label\n",
    "\n",
    "file=pd.read_csv(r\"C:\\Users\\ZenBook\\Desktop\\machine_learning\\gz2_t01.csv\")\n",
    "print(file)\n"
   ]
  }
 ],
 "metadata": {
  "kernelspec": {
   "display_name": "ML_tools",
   "language": "python",
   "name": "python3"
  },
  "language_info": {
   "codemirror_mode": {
    "name": "ipython",
    "version": 3
   },
   "file_extension": ".py",
   "mimetype": "text/x-python",
   "name": "python",
   "nbconvert_exporter": "python",
   "pygments_lexer": "ipython3",
   "version": "3.10.0"
  },
  "orig_nbformat": 4,
  "vscode": {
   "interpreter": {
    "hash": "12e04c48ff6cb41451d3b8f61eaea77fdbb7c6edbe7af91566c35ff3203c4846"
   }
  }
 },
 "nbformat": 4,
 "nbformat_minor": 2
}
